{
  "nbformat": 4,
  "nbformat_minor": 0,
  "metadata": {
    "colab": {
      "provenance": [],
      "authorship_tag": "ABX9TyN1/ERxJdTIkYKEgMYEdSxo",
      "include_colab_link": true
    },
    "kernelspec": {
      "name": "python3",
      "display_name": "Python 3"
    },
    "language_info": {
      "name": "python"
    }
  },
  "cells": [
    {
      "cell_type": "markdown",
      "metadata": {
        "id": "view-in-github",
        "colab_type": "text"
      },
      "source": [
        "<a href=\"https://colab.research.google.com/github/ismichairunisa/PBO-Code-OOP/blob/main/Tugas_PBO.ipynb\" target=\"_parent\"><img src=\"https://colab.research.google.com/assets/colab-badge.svg\" alt=\"Open In Colab\"/></a>"
      ]
    },
    {
      "cell_type": "code",
      "execution_count": null,
      "metadata": {
        "colab": {
          "base_uri": "https://localhost:8080/"
        },
        "id": "EpdMUdpYvRBB",
        "outputId": "6f199871-05c2-4807-b23a-917473c90a37"
      },
      "outputs": [
        {
          "output_type": "stream",
          "name": "stdout",
          "text": [
            "Buku 'Python for Beginners' oleh John Smith\n"
          ]
        }
      ],
      "source": [
        "class Buku:\n",
        "    def __init__(self):\n",
        "        self.judul = \"\"\n",
        "        self.pengarang = \"\"\n",
        "\n",
        "def main():\n",
        "    obj = Buku()\n",
        "    obj.judul = \"Python for Beginners\"\n",
        "    obj.pengarang = \"John Smith\"\n",
        "    print(f\"Buku '{obj.judul}' oleh {obj.pengarang}\")\n",
        "\n",
        "if __name__ == '__main__':\n",
        "    main()"
      ]
    },
    {
      "cell_type": "code",
      "source": [
        "class Lingkaran:\n",
        "    def __init__(self):\n",
        "        self.jari_jari = 0.0\n",
        "\n",
        "def main():\n",
        "    obj = Lingkaran()\n",
        "    obj.jari_jari = 7.5\n",
        "    luas = 3.14 * obj.jari_jari ** 2\n",
        "    print(f\"Luas lingkaran: {luas:.2f}\")\n",
        "\n",
        "if __name__ == '__main__':\n",
        "    main()"
      ],
      "metadata": {
        "colab": {
          "base_uri": "https://localhost:8080/"
        },
        "id": "9Cdihddsv3Kq",
        "outputId": "4d89e847-3418-47e2-9ee1-95f0e76316e6"
      },
      "execution_count": null,
      "outputs": [
        {
          "output_type": "stream",
          "name": "stdout",
          "text": [
            "Luas lingkaran: 176.62\n"
          ]
        }
      ]
    },
    {
      "cell_type": "code",
      "source": [
        "class Mahasiswa:\n",
        "    def __init__(self):\n",
        "        self.nama = \"\"\n",
        "        self.nim = \"\"\n",
        "        self.krs1 = \"\"\n",
        "        self.krs2 = \"\"\n",
        "\n",
        "def main():\n",
        "    obj = Mahasiswa()\n",
        "    obj.nama = \"Ismi Chairunnisa\"\n",
        "    obj.nim = \"230705163\"\n",
        "    obj.krs1 = \"Algoritma Pemrograman\"\n",
        "    obj.krs2 = \"Sistem Operasi Lanjut\"\n",
        "    print(f\"KRS {obj.nama} ({obj.nim}) telah dicetak\")\n",
        "    print(f\"===========================================\")\n",
        "    print(f\"1. {obj.krs1} \")\n",
        "    print(f\"2. {obj.krs2} \")\n",
        "\n",
        "if __name__ == '__main__':\n",
        "    main()"
      ],
      "metadata": {
        "colab": {
          "base_uri": "https://localhost:8080/"
        },
        "id": "4jNCF0Lnv8zL",
        "outputId": "673b8c19-6104-4854-a012-436af7b4e679"
      },
      "execution_count": null,
      "outputs": [
        {
          "output_type": "stream",
          "name": "stdout",
          "text": [
            "KRS Ismi Chairunnisa (230705163) telah dicetak\n",
            "===========================================\n",
            "1. Algoritma Pemrograman \n",
            "2. Sistem Operasi Lanjut \n"
          ]
        }
      ]
    },
    {
      "cell_type": "code",
      "source": [
        "class Mobil:\n",
        "    def __init__(self):\n",
        "        self.merek = \"\"\n",
        "        self.tahun = 0\n",
        "\n",
        "def main():\n",
        "    obj = Mobil()\n",
        "    obj.merek = \"Honda Jazz\"\n",
        "    obj.tahun = 2020\n",
        "    print(f\"{obj.merek} tahun {obj.tahun} siap digunakan\")\n",
        "\n",
        "if __name__ == '__main__':\n",
        "    main()"
      ],
      "metadata": {
        "colab": {
          "base_uri": "https://localhost:8080/"
        },
        "id": "ImUq83EhwD0d",
        "outputId": "bc527e18-48fa-4793-87bb-d1b55253f368"
      },
      "execution_count": null,
      "outputs": [
        {
          "output_type": "stream",
          "name": "stdout",
          "text": [
            "Honda Jazz tahun 2020 siap digunakan\n"
          ]
        }
      ]
    },
    {
      "cell_type": "code",
      "source": [
        "class Segitiga:\n",
        "    def __init__(self):\n",
        "        self.alas = 0.0\n",
        "        self.tinggi = 0.0\n",
        "\n",
        "def main():\n",
        "    obj = Segitiga()\n",
        "    obj.alas = 5\n",
        "    obj.tinggi = 3\n",
        "    luas = 0.5 * obj.alas * obj.tinggi\n",
        "    print('Luas segitiga = %.2f' % luas)\n",
        "\n",
        "if __name__ == '__main__':\n",
        "    main()"
      ],
      "metadata": {
        "colab": {
          "base_uri": "https://localhost:8080/"
        },
        "id": "ALXFfcrfwEjm",
        "outputId": "b259b93d-0891-4c70-ffaa-6a141a4620ea"
      },
      "execution_count": null,
      "outputs": [
        {
          "output_type": "stream",
          "name": "stdout",
          "text": [
            "Luas segitiga = 7.50\n"
          ]
        }
      ]
    }
  ]
}